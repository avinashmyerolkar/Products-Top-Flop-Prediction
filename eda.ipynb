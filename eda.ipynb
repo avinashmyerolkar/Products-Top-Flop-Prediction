{
 "cells": [
  {
   "cell_type": "markdown",
   "id": "fc0653ac",
   "metadata": {},
   "source": [
    "# Exploratory data analysis"
   ]
  },
  {
   "cell_type": "code",
   "execution_count": null,
   "id": "7efb4ba7",
   "metadata": {},
   "outputs": [],
   "source": [
    "# NOTE : EDA report is at the end of this page"
   ]
  },
  {
   "cell_type": "code",
   "execution_count": 1,
   "id": "cb712a91",
   "metadata": {},
   "outputs": [],
   "source": [
    "import pandas as pd #to handling dataframes\n",
    "import numpy as np\n",
    "\n",
    "import seaborn as sns   #for plotting graphs\n",
    "import matplotlib.pyplot as plt\n",
    "    \n",
    "from sklearn.preprocessing import LabelEncoder  # for encoding string categorical to numeric catgorical\n",
    "from imblearn.over_sampling import SMOTE   #to handle imbalaced dataset\n"
   ]
  },
  {
   "cell_type": "code",
   "execution_count": 2,
   "id": "a6bbfd3f",
   "metadata": {},
   "outputs": [],
   "source": [
    "import warnings\n",
    "warnings.filterwarnings('ignore')"
   ]
  },
  {
   "cell_type": "code",
   "execution_count": 3,
   "id": "5c4ee7d7",
   "metadata": {},
   "outputs": [],
   "source": [
    "df = pd.read_csv('historic.csv')"
   ]
  },
  {
   "cell_type": "code",
   "execution_count": 4,
   "id": "abe2c6ae",
   "metadata": {},
   "outputs": [
    {
     "data": {
      "text/html": [
       "<div>\n",
       "<style scoped>\n",
       "    .dataframe tbody tr th:only-of-type {\n",
       "        vertical-align: middle;\n",
       "    }\n",
       "\n",
       "    .dataframe tbody tr th {\n",
       "        vertical-align: top;\n",
       "    }\n",
       "\n",
       "    .dataframe thead th {\n",
       "        text-align: right;\n",
       "    }\n",
       "</style>\n",
       "<table border=\"1\" class=\"dataframe\">\n",
       "  <thead>\n",
       "    <tr style=\"text-align: right;\">\n",
       "      <th></th>\n",
       "      <th>item_no</th>\n",
       "      <th>category</th>\n",
       "      <th>main_promotion</th>\n",
       "      <th>color</th>\n",
       "      <th>stars</th>\n",
       "      <th>success_indicator</th>\n",
       "    </tr>\n",
       "  </thead>\n",
       "  <tbody>\n",
       "    <tr>\n",
       "      <th>0</th>\n",
       "      <td>739157</td>\n",
       "      <td>Tunic</td>\n",
       "      <td>Catalog</td>\n",
       "      <td>Green</td>\n",
       "      <td>3.1</td>\n",
       "      <td>flop</td>\n",
       "    </tr>\n",
       "    <tr>\n",
       "      <th>1</th>\n",
       "      <td>591846</td>\n",
       "      <td>Hoodie</td>\n",
       "      <td>Category_Highlight</td>\n",
       "      <td>Red</td>\n",
       "      <td>1.5</td>\n",
       "      <td>flop</td>\n",
       "    </tr>\n",
       "    <tr>\n",
       "      <th>2</th>\n",
       "      <td>337574</td>\n",
       "      <td>Sweatshirt</td>\n",
       "      <td>Catalog</td>\n",
       "      <td>Red</td>\n",
       "      <td>4.4</td>\n",
       "      <td>top</td>\n",
       "    </tr>\n",
       "    <tr>\n",
       "      <th>3</th>\n",
       "      <td>401933</td>\n",
       "      <td>Polo-Shirt</td>\n",
       "      <td>Category_Highlight</td>\n",
       "      <td>Blue</td>\n",
       "      <td>3.1</td>\n",
       "      <td>flop</td>\n",
       "    </tr>\n",
       "    <tr>\n",
       "      <th>4</th>\n",
       "      <td>812151</td>\n",
       "      <td>Hoodie</td>\n",
       "      <td>Category_Highlight</td>\n",
       "      <td>Green</td>\n",
       "      <td>4.1</td>\n",
       "      <td>top</td>\n",
       "    </tr>\n",
       "  </tbody>\n",
       "</table>\n",
       "</div>"
      ],
      "text/plain": [
       "   item_no    category      main_promotion  color  stars success_indicator\n",
       "0   739157       Tunic             Catalog  Green    3.1              flop\n",
       "1   591846      Hoodie  Category_Highlight    Red    1.5              flop\n",
       "2   337574  Sweatshirt             Catalog    Red    4.4               top\n",
       "3   401933  Polo-Shirt  Category_Highlight   Blue    3.1              flop\n",
       "4   812151      Hoodie  Category_Highlight  Green    4.1               top"
      ]
     },
     "execution_count": 4,
     "metadata": {},
     "output_type": "execute_result"
    }
   ],
   "source": [
    "df.head()"
   ]
  },
  {
   "cell_type": "markdown",
   "id": "72365d48",
   "metadata": {},
   "source": [
    "# CHECK FOR NULL VALUES IN DATASET\n"
   ]
  },
  {
   "cell_type": "code",
   "execution_count": 5,
   "id": "dd6f6e64",
   "metadata": {},
   "outputs": [
    {
     "data": {
      "text/plain": [
       "item_no  category  main_promotion  color  stars  success_indicator\n",
       "False    False     False           False  False  False                8000\n",
       "dtype: int64"
      ]
     },
     "execution_count": 5,
     "metadata": {},
     "output_type": "execute_result"
    }
   ],
   "source": [
    "df.isnull().value_counts()  # NO null values present in dataframe"
   ]
  },
  {
   "cell_type": "code",
   "execution_count": 6,
   "id": "b015963d",
   "metadata": {},
   "outputs": [
    {
     "name": "stdout",
     "output_type": "stream",
     "text": [
      "<class 'pandas.core.frame.DataFrame'>\n",
      "RangeIndex: 8000 entries, 0 to 7999\n",
      "Data columns (total 6 columns):\n",
      " #   Column             Non-Null Count  Dtype  \n",
      "---  ------             --------------  -----  \n",
      " 0   item_no            8000 non-null   int64  \n",
      " 1   category           8000 non-null   object \n",
      " 2   main_promotion     8000 non-null   object \n",
      " 3   color              8000 non-null   object \n",
      " 4   stars              8000 non-null   float64\n",
      " 5   success_indicator  8000 non-null   object \n",
      "dtypes: float64(1), int64(1), object(4)\n",
      "memory usage: 375.1+ KB\n"
     ]
    }
   ],
   "source": [
    "df.info() "
   ]
  },
  {
   "cell_type": "markdown",
   "id": "710fa50f",
   "metadata": {},
   "source": [
    "# CHECK FOR DUPLICATED VALUES IN DATASET"
   ]
  },
  {
   "cell_type": "code",
   "execution_count": 7,
   "id": "a00af423",
   "metadata": {},
   "outputs": [
    {
     "data": {
      "text/plain": [
       "False    8000\n",
       "dtype: int64"
      ]
     },
     "execution_count": 7,
     "metadata": {},
     "output_type": "execute_result"
    }
   ],
   "source": [
    "df.duplicated().value_counts() # NO duplicates present in dataframe"
   ]
  },
  {
   "cell_type": "code",
   "execution_count": null,
   "id": "69b432eb",
   "metadata": {},
   "outputs": [],
   "source": [
    "#############################################################################################\n",
    "###########################################################################################"
   ]
  },
  {
   "cell_type": "code",
   "execution_count": null,
   "id": "804e87a7",
   "metadata": {},
   "outputs": [],
   "source": []
  },
  {
   "cell_type": "markdown",
   "id": "0b226221",
   "metadata": {},
   "source": [
    "# Analysis on : item_no feature"
   ]
  },
  {
   "cell_type": "code",
   "execution_count": 9,
   "id": "e1a2c483",
   "metadata": {},
   "outputs": [
    {
     "data": {
      "text/plain": [
       "count      8000.000000\n",
       "mean     546474.338375\n",
       "std      256513.463874\n",
       "min      100171.000000\n",
       "25%      325001.500000\n",
       "50%      547081.000000\n",
       "75%      764312.250000\n",
       "max      989740.000000\n",
       "Name: item_no, dtype: float64"
      ]
     },
     "execution_count": 9,
     "metadata": {},
     "output_type": "execute_result"
    }
   ],
   "source": [
    "df['item_no'].describe()"
   ]
  },
  {
   "cell_type": "code",
   "execution_count": 10,
   "id": "523be48f",
   "metadata": {},
   "outputs": [
    {
     "data": {
      "text/plain": [
       "False    8000\n",
       "Name: item_no, dtype: int64"
      ]
     },
     "execution_count": 10,
     "metadata": {},
     "output_type": "execute_result"
    }
   ],
   "source": [
    "df['item_no'].duplicated().value_counts()"
   ]
  },
  {
   "cell_type": "markdown",
   "id": "1dc3a52f",
   "metadata": {},
   "source": [
    "As 'item_no' feature having high variance or all values are unique we can drop this feature as it will not help us in\n",
    "     predicting output"
   ]
  },
  {
   "cell_type": "code",
   "execution_count": 11,
   "id": "be15ff1f",
   "metadata": {},
   "outputs": [],
   "source": [
    "df = df[['category','main_promotion','color','stars','success_indicator']]"
   ]
  },
  {
   "cell_type": "code",
   "execution_count": 12,
   "id": "a8e6c65e",
   "metadata": {},
   "outputs": [
    {
     "data": {
      "text/html": [
       "<div>\n",
       "<style scoped>\n",
       "    .dataframe tbody tr th:only-of-type {\n",
       "        vertical-align: middle;\n",
       "    }\n",
       "\n",
       "    .dataframe tbody tr th {\n",
       "        vertical-align: top;\n",
       "    }\n",
       "\n",
       "    .dataframe thead th {\n",
       "        text-align: right;\n",
       "    }\n",
       "</style>\n",
       "<table border=\"1\" class=\"dataframe\">\n",
       "  <thead>\n",
       "    <tr style=\"text-align: right;\">\n",
       "      <th></th>\n",
       "      <th>category</th>\n",
       "      <th>main_promotion</th>\n",
       "      <th>color</th>\n",
       "      <th>stars</th>\n",
       "      <th>success_indicator</th>\n",
       "    </tr>\n",
       "  </thead>\n",
       "  <tbody>\n",
       "    <tr>\n",
       "      <th>0</th>\n",
       "      <td>Tunic</td>\n",
       "      <td>Catalog</td>\n",
       "      <td>Green</td>\n",
       "      <td>3.1</td>\n",
       "      <td>flop</td>\n",
       "    </tr>\n",
       "    <tr>\n",
       "      <th>1</th>\n",
       "      <td>Hoodie</td>\n",
       "      <td>Category_Highlight</td>\n",
       "      <td>Red</td>\n",
       "      <td>1.5</td>\n",
       "      <td>flop</td>\n",
       "    </tr>\n",
       "    <tr>\n",
       "      <th>2</th>\n",
       "      <td>Sweatshirt</td>\n",
       "      <td>Catalog</td>\n",
       "      <td>Red</td>\n",
       "      <td>4.4</td>\n",
       "      <td>top</td>\n",
       "    </tr>\n",
       "    <tr>\n",
       "      <th>3</th>\n",
       "      <td>Polo-Shirt</td>\n",
       "      <td>Category_Highlight</td>\n",
       "      <td>Blue</td>\n",
       "      <td>3.1</td>\n",
       "      <td>flop</td>\n",
       "    </tr>\n",
       "    <tr>\n",
       "      <th>4</th>\n",
       "      <td>Hoodie</td>\n",
       "      <td>Category_Highlight</td>\n",
       "      <td>Green</td>\n",
       "      <td>4.1</td>\n",
       "      <td>top</td>\n",
       "    </tr>\n",
       "  </tbody>\n",
       "</table>\n",
       "</div>"
      ],
      "text/plain": [
       "     category      main_promotion  color  stars success_indicator\n",
       "0       Tunic             Catalog  Green    3.1              flop\n",
       "1      Hoodie  Category_Highlight    Red    1.5              flop\n",
       "2  Sweatshirt             Catalog    Red    4.4               top\n",
       "3  Polo-Shirt  Category_Highlight   Blue    3.1              flop\n",
       "4      Hoodie  Category_Highlight  Green    4.1               top"
      ]
     },
     "execution_count": 12,
     "metadata": {},
     "output_type": "execute_result"
    }
   ],
   "source": [
    "df.head()"
   ]
  },
  {
   "cell_type": "code",
   "execution_count": 150,
   "id": "888f81bd",
   "metadata": {},
   "outputs": [],
   "source": [
    "#####################################################################\n",
    "######################################################################"
   ]
  },
  {
   "cell_type": "code",
   "execution_count": null,
   "id": "57be38b7",
   "metadata": {},
   "outputs": [],
   "source": []
  },
  {
   "cell_type": "markdown",
   "id": "88b956b7",
   "metadata": {},
   "source": [
    "# Analysis on category feature "
   ]
  },
  {
   "cell_type": "code",
   "execution_count": 14,
   "id": "f5a2af1a",
   "metadata": {
    "scrolled": true
   },
   "outputs": [
    {
     "data": {
      "text/plain": [
       "Tunic         1650\n",
       "Polo-Shirt    1546\n",
       "T-Shirt       1459\n",
       "Sweatshirt    1360\n",
       "Blouse        1246\n",
       "Hoodie         739\n",
       "Name: category, dtype: int64"
      ]
     },
     "execution_count": 14,
     "metadata": {},
     "output_type": "execute_result"
    }
   ],
   "source": [
    "df['category'].value_counts()"
   ]
  },
  {
   "cell_type": "markdown",
   "id": "a4b3f5f4",
   "metadata": {},
   "source": [
    "There are 6 categories of product namely Tunic, Polo-Shirt, T-Shirt, Sweatshirt, Blouse, Hoodie\n",
    "Here as features datatype is categorical we have to convert it into numerical datatype in feature engineering\n",
    "as our model understand numerical values only"
   ]
  },
  {
   "cell_type": "code",
   "execution_count": 15,
   "id": "2e69c3c8",
   "metadata": {},
   "outputs": [
    {
     "name": "stdout",
     "output_type": "stream",
     "text": [
      "[5 1 3 ... 4 0 3]\n"
     ]
    }
   ],
   "source": [
    "from sklearn.preprocessing import LabelEncoder    # here we have encoded 6 product category into num using label encoder\n",
    "le1 = LabelEncoder()\n",
    "encoded_category1 = le1.fit_transform(df['category'])\n",
    "print(encoded_category1)"
   ]
  },
  {
   "cell_type": "code",
   "execution_count": 16,
   "id": "c456f7cc",
   "metadata": {},
   "outputs": [],
   "source": [
    "df['category'] = encoded_category1   # converting category in text to numbers / encoded once"
   ]
  },
  {
   "cell_type": "code",
   "execution_count": 17,
   "id": "f2789292",
   "metadata": {},
   "outputs": [
    {
     "data": {
      "text/plain": [
       "array(['Blouse', 'Hoodie', 'Polo-Shirt', 'Sweatshirt', 'T-Shirt', 'Tunic'],\n",
       "      dtype=object)"
      ]
     },
     "execution_count": 17,
     "metadata": {},
     "output_type": "execute_result"
    }
   ],
   "source": [
    "encoded_categories1 = le1.classes_\n",
    "encoded_categories1"
   ]
  },
  {
   "cell_type": "code",
   "execution_count": 18,
   "id": "98b4dedb",
   "metadata": {
    "scrolled": true
   },
   "outputs": [
    {
     "name": "stdout",
     "output_type": "stream",
     "text": [
      "Encoded Category: Blouse, Encoded Value: 0\n",
      "Encoded Category: Hoodie, Encoded Value: 1\n",
      "Encoded Category: Polo-Shirt, Encoded Value: 2\n",
      "Encoded Category: Sweatshirt, Encoded Value: 3\n",
      "Encoded Category: T-Shirt, Encoded Value: 4\n",
      "Encoded Category: Tunic, Encoded Value: 5\n"
     ]
    }
   ],
   "source": [
    "encoded_values1 = le1.transform(encoded_categories1)\n",
    "category_mapping1 = dict(zip(encoded_categories1, encoded_values1)) # dictionary mapping the names to the numerical values\n",
    "for category1, value1 in category_mapping1.items():  \n",
    "    print(f\"Encoded Category: {category1}, Encoded Value: {value1}\")  # encoded value with its original name"
   ]
  },
  {
   "cell_type": "code",
   "execution_count": 19,
   "id": "ba17661c",
   "metadata": {},
   "outputs": [],
   "source": [
    "# Bivarite of category and success_indicator feature"
   ]
  },
  {
   "cell_type": "code",
   "execution_count": 20,
   "id": "066b7ac5",
   "metadata": {},
   "outputs": [
    {
     "data": {
      "text/html": [
       "<div>\n",
       "<style scoped>\n",
       "    .dataframe tbody tr th:only-of-type {\n",
       "        vertical-align: middle;\n",
       "    }\n",
       "\n",
       "    .dataframe tbody tr th {\n",
       "        vertical-align: top;\n",
       "    }\n",
       "\n",
       "    .dataframe thead th {\n",
       "        text-align: right;\n",
       "    }\n",
       "</style>\n",
       "<table border=\"1\" class=\"dataframe\">\n",
       "  <thead>\n",
       "    <tr style=\"text-align: right;\">\n",
       "      <th>success_indicator</th>\n",
       "      <th>flop</th>\n",
       "      <th>top</th>\n",
       "    </tr>\n",
       "    <tr>\n",
       "      <th>category</th>\n",
       "      <th></th>\n",
       "      <th></th>\n",
       "    </tr>\n",
       "  </thead>\n",
       "  <tbody>\n",
       "    <tr>\n",
       "      <th>0</th>\n",
       "      <td>363</td>\n",
       "      <td>883</td>\n",
       "    </tr>\n",
       "    <tr>\n",
       "      <th>1</th>\n",
       "      <td>258</td>\n",
       "      <td>481</td>\n",
       "    </tr>\n",
       "    <tr>\n",
       "      <th>2</th>\n",
       "      <td>817</td>\n",
       "      <td>729</td>\n",
       "    </tr>\n",
       "    <tr>\n",
       "      <th>3</th>\n",
       "      <td>453</td>\n",
       "      <td>907</td>\n",
       "    </tr>\n",
       "    <tr>\n",
       "      <th>4</th>\n",
       "      <td>271</td>\n",
       "      <td>1188</td>\n",
       "    </tr>\n",
       "    <tr>\n",
       "      <th>5</th>\n",
       "      <td>653</td>\n",
       "      <td>997</td>\n",
       "    </tr>\n",
       "  </tbody>\n",
       "</table>\n",
       "</div>"
      ],
      "text/plain": [
       "success_indicator  flop   top\n",
       "category                     \n",
       "0                   363   883\n",
       "1                   258   481\n",
       "2                   817   729\n",
       "3                   453   907\n",
       "4                   271  1188\n",
       "5                   653   997"
      ]
     },
     "execution_count": 20,
     "metadata": {},
     "output_type": "execute_result"
    }
   ],
   "source": [
    "pd.crosstab(df['category'], df['success_indicator'])\n",
    "# Based on biivariate analysis we can conclude\n",
    "# here we can see the success indicator  of 'T-shirt' is huge among all categories which is good for buisness\n",
    "# while  in relative sense polo-shirt went flop more compared to their sucess in market "
   ]
  },
  {
   "cell_type": "code",
   "execution_count": 21,
   "id": "1aa58918",
   "metadata": {},
   "outputs": [
    {
     "data": {
      "image/png": "[encoded data removed]",
      "text/plain": [
       "<Figure size 640x480 with 1 Axes>"
      ]
     },
     "metadata": {},
     "output_type": "display_data"
    }
   ],
   "source": [
    "# as categorical features we can go for stacked_bar_plot \n",
    "cross_tab = pd.crosstab(df['category'], df['success_indicator']) \n",
    "\n",
    "cross_tab.plot.bar(stacked=True) # will plot the stacked bar plot\n",
    "\n",
    "plt.xlabel('Category')\n",
    "plt.ylabel('Count')\n",
    "plt.title('Bar Plot: Category vs Success Indicator')\n",
    "plt.show()"
   ]
  },
  {
   "cell_type": "code",
   "execution_count": 133,
   "id": "2abe9923",
   "metadata": {},
   "outputs": [
    {
     "data": {
      "text/plain": [
       "(883, 6)"
      ]
     },
     "execution_count": 133,
     "metadata": {},
     "output_type": "execute_result"
    }
   ],
   "source": [
    "df[df['category'] == 0].shape # 1246\n",
    "df[(df['category'] ==  0 ) & (df['success_indicator'] == 1)].shape #883\n",
    "#when category of product is Blouse then percent of success indicator = TOP will be 70.86%"
   ]
  },
  {
   "cell_type": "code",
   "execution_count": 138,
   "id": "149db698",
   "metadata": {},
   "outputs": [
    {
     "data": {
      "text/plain": [
       "(481, 6)"
      ]
     },
     "execution_count": 138,
     "metadata": {},
     "output_type": "execute_result"
    }
   ],
   "source": [
    "df[df['category'] == 1].shape # 739\n",
    "df[(df['category'] ==  1 ) & (df['success_indicator'] == 1)].shape #481\n",
    "#when category of product is Hoodie then percent of success indicator = TOP will be 65.08%"
   ]
  },
  {
   "cell_type": "code",
   "execution_count": 140,
   "id": "520dc4f3",
   "metadata": {},
   "outputs": [
    {
     "data": {
      "text/plain": [
       "(729, 6)"
      ]
     },
     "execution_count": 140,
     "metadata": {},
     "output_type": "execute_result"
    }
   ],
   "source": [
    "df[df['category'] == 2].shape # 1546\n",
    "df[(df['category'] ==  2 ) & (df['success_indicator'] == 1)].shape #729\n",
    "#when category of product is Polo-Shirt then percent of success indicator = TOP will be 47.15%"
   ]
  },
  {
   "cell_type": "code",
   "execution_count": 143,
   "id": "b52ebaa6",
   "metadata": {},
   "outputs": [
    {
     "data": {
      "text/plain": [
       "(907, 6)"
      ]
     },
     "execution_count": 143,
     "metadata": {},
     "output_type": "execute_result"
    }
   ],
   "source": [
    "df[df['category'] == 3].shape # 1360\n",
    "df[(df['category'] ==  3 ) & (df['success_indicator'] == 1)].shape #907\n",
    "#when category of product is Sweatshirt then percent of success indicator = TOP will be 66.69%"
   ]
  },
  {
   "cell_type": "code",
   "execution_count": 146,
   "id": "7c7c7793",
   "metadata": {},
   "outputs": [
    {
     "data": {
      "text/plain": [
       "(1188, 6)"
      ]
     },
     "execution_count": 146,
     "metadata": {},
     "output_type": "execute_result"
    }
   ],
   "source": [
    "df[df['category'] == 4].shape # 1459\n",
    "df[(df['category'] ==  4 ) & (df['success_indicator'] == 1)].shape #1188\n",
    "#when category of product is T-Shirt then percent of success indicator = TOP will be 81.42%"
   ]
  },
  {
   "cell_type": "code",
   "execution_count": 149,
   "id": "97746d94",
   "metadata": {},
   "outputs": [
    {
     "data": {
      "text/plain": [
       "(997, 6)"
      ]
     },
     "execution_count": 149,
     "metadata": {},
     "output_type": "execute_result"
    }
   ],
   "source": [
    "df[df['category'] == 5].shape # 1650\n",
    "df[(df['category'] ==  5 ) & (df['success_indicator'] == 1)].shape #997\n",
    "#when category of product is Tunic then percent of success indicator = TOP will be 60.42%"
   ]
  },
  {
   "cell_type": "code",
   "execution_count": null,
   "id": "75dc6e63",
   "metadata": {},
   "outputs": [],
   "source": [
    "##########################################################################################\n",
    "############################################################################################"
   ]
  },
  {
   "cell_type": "code",
   "execution_count": null,
   "id": "05fd881a",
   "metadata": {},
   "outputs": [],
   "source": []
  },
  {
   "cell_type": "code",
   "execution_count": null,
   "id": "e66e6717",
   "metadata": {},
   "outputs": [],
   "source": []
  },
  {
   "cell_type": "markdown",
   "id": "b6a44462",
   "metadata": {},
   "source": [
    "# Analysis on : main_promotion feature"
   ]
  },
  {
   "cell_type": "code",
   "execution_count": 23,
   "id": "09184f9b",
   "metadata": {},
   "outputs": [
    {
     "data": {
      "text/plain": [
       "Category_Highlight     2432\n",
       "Catalog                2246\n",
       "Frontpage_Header       2013\n",
       "Display_Ad_Campaign    1309\n",
       "Name: main_promotion, dtype: int64"
      ]
     },
     "execution_count": 23,
     "metadata": {},
     "output_type": "execute_result"
    }
   ],
   "source": [
    "df['main_promotion'].value_counts()"
   ]
  },
  {
   "cell_type": "markdown",
   "id": "2bbe22cb",
   "metadata": {},
   "source": [
    "Here for promotion of these product company used 4 mainways namely Category_Highlight, Catalog, Frontpage_Header,\n",
    "Display_Ad_Campaign"
   ]
  },
  {
   "cell_type": "code",
   "execution_count": 24,
   "id": "11dae5bc",
   "metadata": {},
   "outputs": [
    {
     "name": "stdout",
     "output_type": "stream",
     "text": [
      "[0 1 0 ... 1 1 2]\n"
     ]
    }
   ],
   "source": [
    "from sklearn.preprocessing import LabelEncoder    # here we have encoded 6 product category into num using label encoder\n",
    "le2 = LabelEncoder()\n",
    "encoded_main_promotion = le2.fit_transform(df['main_promotion'])\n",
    "print(encoded_main_promotion)"
   ]
  },
  {
   "cell_type": "code",
   "execution_count": 25,
   "id": "8b320616",
   "metadata": {},
   "outputs": [],
   "source": [
    "df['main_promotion'] = encoded_main_promotion"
   ]
  },
  {
   "cell_type": "code",
   "execution_count": 26,
   "id": "53d68415",
   "metadata": {},
   "outputs": [
    {
     "data": {
      "text/plain": [
       "array(['Catalog', 'Category_Highlight', 'Display_Ad_Campaign',\n",
       "       'Frontpage_Header'], dtype=object)"
      ]
     },
     "execution_count": 26,
     "metadata": {},
     "output_type": "execute_result"
    }
   ],
   "source": [
    "encoded_categories_mp = le2.classes_\n",
    "encoded_categories_mp"
   ]
  },
  {
   "cell_type": "code",
   "execution_count": 27,
   "id": "eec932bc",
   "metadata": {},
   "outputs": [
    {
     "name": "stdout",
     "output_type": "stream",
     "text": [
      "Encoded Category: Catalog, Encoded Value: 0\n",
      "Encoded Category: Category_Highlight, Encoded Value: 1\n",
      "Encoded Category: Display_Ad_Campaign, Encoded Value: 2\n",
      "Encoded Category: Frontpage_Header, Encoded Value: 3\n"
     ]
    }
   ],
   "source": [
    "encoded_values2 = le2.transform(encoded_categories_mp)\n",
    "category_mapping2 = dict(zip(encoded_categories_mp, encoded_values2)) # dictionary mapping the names to the numerical values\n",
    "for mp, value2 in category_mapping2.items():  \n",
    "    print(f\"Encoded Category: {mp}, Encoded Value: {value2}\")  # encoded value with its original name"
   ]
  },
  {
   "cell_type": "code",
   "execution_count": 28,
   "id": "1232e51a",
   "metadata": {},
   "outputs": [],
   "source": [
    "# Bivarite of main_promotion and success_indicator feature"
   ]
  },
  {
   "cell_type": "code",
   "execution_count": 29,
   "id": "7d85346f",
   "metadata": {},
   "outputs": [
    {
     "data": {
      "text/html": [
       "<div>\n",
       "<style scoped>\n",
       "    .dataframe tbody tr th:only-of-type {\n",
       "        vertical-align: middle;\n",
       "    }\n",
       "\n",
       "    .dataframe tbody tr th {\n",
       "        vertical-align: top;\n",
       "    }\n",
       "\n",
       "    .dataframe thead th {\n",
       "        text-align: right;\n",
       "    }\n",
       "</style>\n",
       "<table border=\"1\" class=\"dataframe\">\n",
       "  <thead>\n",
       "    <tr style=\"text-align: right;\">\n",
       "      <th>success_indicator</th>\n",
       "      <th>flop</th>\n",
       "      <th>top</th>\n",
       "    </tr>\n",
       "    <tr>\n",
       "      <th>main_promotion</th>\n",
       "      <th></th>\n",
       "      <th></th>\n",
       "    </tr>\n",
       "  </thead>\n",
       "  <tbody>\n",
       "    <tr>\n",
       "      <th>0</th>\n",
       "      <td>953</td>\n",
       "      <td>1293</td>\n",
       "    </tr>\n",
       "    <tr>\n",
       "      <th>1</th>\n",
       "      <td>930</td>\n",
       "      <td>1502</td>\n",
       "    </tr>\n",
       "    <tr>\n",
       "      <th>2</th>\n",
       "      <td>335</td>\n",
       "      <td>974</td>\n",
       "    </tr>\n",
       "    <tr>\n",
       "      <th>3</th>\n",
       "      <td>597</td>\n",
       "      <td>1416</td>\n",
       "    </tr>\n",
       "  </tbody>\n",
       "</table>\n",
       "</div>"
      ],
      "text/plain": [
       "success_indicator  flop   top\n",
       "main_promotion               \n",
       "0                   953  1293\n",
       "1                   930  1502\n",
       "2                   335   974\n",
       "3                   597  1416"
      ]
     },
     "execution_count": 29,
     "metadata": {},
     "output_type": "execute_result"
    }
   ],
   "source": [
    "cross_tab2 = pd.crosstab(df['main_promotion'], df['success_indicator'])\n",
    "cross_tab2"
   ]
  },
  {
   "cell_type": "markdown",
   "id": "a070306f",
   "metadata": {},
   "source": [
    "here we can observe success rate is \n",
    "57% for Catalog\n",
    "61% Category_Highlight\n",
    "74% Display_Ad_Campaign\n",
    "70% Frontpage_Header\n",
    "Hence as per these bivariate analysis company should focus on Display_Ad_Campaign and Frontpage_Header promotions more\n",
    "and other two as less"
   ]
  },
  {
   "cell_type": "code",
   "execution_count": 115,
   "id": "9f87ba33",
   "metadata": {},
   "outputs": [
    {
     "data": {
      "image/png": "[encoded data removed]",
      "text/plain": [
       "<Figure size 640x480 with 1 Axes>"
      ]
     },
     "metadata": {},
     "output_type": "display_data"
    }
   ],
   "source": [
    "cross_tab2 = pd.crosstab(df['main_promotion'], df['success_indicator'])\n",
    "cross_tab2.plot.bar(stacked=True)\n",
    "plt.xlabel('Main Promotion')\n",
    "plt.ylabel('Count')\n",
    "plt.title('Stacked Bar Plot: Main Promotion vs Success Indicator')\n",
    "plt.show()"
   ]
  },
  {
   "cell_type": "code",
   "execution_count": 119,
   "id": "25286fec",
   "metadata": {},
   "outputs": [
    {
     "data": {
      "text/plain": [
       "(2246, 6)"
      ]
     },
     "execution_count": 119,
     "metadata": {},
     "output_type": "execute_result"
    }
   ],
   "source": [
    "df[df['main_promotion'] == 0].shape # 2246\n",
    "#df[(df['main_promotion'] == 0  ) & (df['success_indicator'] == 1)].shape #1293\n",
    "#when main_promotion is via Catalog then percent of sucess indicator = TOP will be 57.56%"
   ]
  },
  {
   "cell_type": "code",
   "execution_count": 123,
   "id": "1d7faa81",
   "metadata": {},
   "outputs": [
    {
     "data": {
      "text/plain": [
       "(1502, 6)"
      ]
     },
     "execution_count": 123,
     "metadata": {},
     "output_type": "execute_result"
    }
   ],
   "source": [
    "df[df['main_promotion'] == 1].shape # 2432\n",
    "df[(df['main_promotion'] ==  1 ) & (df['success_indicator'] == 1)].shape #1502\n",
    "#when main_promotion is via Category_Highlight then percent of sucess indicator = TOP will be 61.75%"
   ]
  },
  {
   "cell_type": "code",
   "execution_count": 126,
   "id": "dd3b0bd8",
   "metadata": {},
   "outputs": [
    {
     "data": {
      "text/plain": [
       "(974, 6)"
      ]
     },
     "execution_count": 126,
     "metadata": {},
     "output_type": "execute_result"
    }
   ],
   "source": [
    "df[df['main_promotion'] == 2].shape # 1309\n",
    "df[(df['main_promotion'] == 2  ) & (df['success_indicator'] == 1)].shape #974\n",
    "#when main_promotion is via Display_Ad_Campaign then percent of sucess indicator = TOP will be 74.40%"
   ]
  },
  {
   "cell_type": "code",
   "execution_count": 129,
   "id": "9ce54981",
   "metadata": {},
   "outputs": [
    {
     "data": {
      "text/plain": [
       "(1416, 6)"
      ]
     },
     "execution_count": 129,
     "metadata": {},
     "output_type": "execute_result"
    }
   ],
   "source": [
    "df[df['main_promotion'] == 3].shape # 2013\n",
    "df[(df['main_promotion'] == 3  ) & (df['success_indicator'] == 1)].shape #1416\n",
    "#when main_promotion is via Frontpage_Header then percent of sucess indicator = TOP will be 70.34%"
   ]
  },
  {
   "cell_type": "code",
   "execution_count": null,
   "id": "bbd3381c",
   "metadata": {},
   "outputs": [],
   "source": [
    "##############################################################################################\n",
    "##############################################################################################"
   ]
  },
  {
   "cell_type": "code",
   "execution_count": null,
   "id": "4ba9d20a",
   "metadata": {},
   "outputs": [],
   "source": []
  },
  {
   "cell_type": "code",
   "execution_count": null,
   "id": "d1bb57df",
   "metadata": {},
   "outputs": [],
   "source": []
  },
  {
   "cell_type": "markdown",
   "id": "2fbb1e46",
   "metadata": {},
   "source": [
    "# Analysis on : color feature"
   ]
  },
  {
   "cell_type": "code",
   "execution_count": 32,
   "id": "20ff6806",
   "metadata": {},
   "outputs": [
    {
     "data": {
      "text/plain": [
       "Multi-Color    1443\n",
       "Blue           1244\n",
       "Yellow         1056\n",
       "Black           812\n",
       "Red             776\n",
       "Green           728\n",
       "Orange          592\n",
       "Brown           585\n",
       "Pink            412\n",
       "White           352\n",
       "Name: color, dtype: int64"
      ]
     },
     "execution_count": 32,
     "metadata": {},
     "output_type": "execute_result"
    }
   ],
   "source": [
    "df['color'].value_counts()"
   ]
  },
  {
   "cell_type": "code",
   "execution_count": 33,
   "id": "c13f1f60",
   "metadata": {},
   "outputs": [
    {
     "name": "stdout",
     "output_type": "stream",
     "text": [
      "[3 7 7 ... 9 1 1]\n"
     ]
    }
   ],
   "source": [
    "from sklearn.preprocessing import LabelEncoder    # here we have encoded color category into num using label encoder\n",
    "le3 = LabelEncoder()\n",
    "encoded_color = le3.fit_transform(df['color'])\n",
    "print(encoded_color)"
   ]
  },
  {
   "cell_type": "code",
   "execution_count": 34,
   "id": "7619e28b",
   "metadata": {},
   "outputs": [],
   "source": [
    "df['color'] = encoded_color"
   ]
  },
  {
   "cell_type": "code",
   "execution_count": 35,
   "id": "ca5fa66d",
   "metadata": {},
   "outputs": [
    {
     "data": {
      "text/plain": [
       "array(['Black', 'Blue', 'Brown', 'Green', 'Multi-Color', 'Orange', 'Pink',\n",
       "       'Red', 'White', 'Yellow'], dtype=object)"
      ]
     },
     "execution_count": 35,
     "metadata": {},
     "output_type": "execute_result"
    }
   ],
   "source": [
    "encoded_color_class = le3.classes_\n",
    "encoded_color_class"
   ]
  },
  {
   "cell_type": "code",
   "execution_count": 36,
   "id": "934122e3",
   "metadata": {},
   "outputs": [
    {
     "name": "stdout",
     "output_type": "stream",
     "text": [
      "Encoded Category: Black, Encoded Value: 0\n",
      "Encoded Category: Blue, Encoded Value: 1\n",
      "Encoded Category: Brown, Encoded Value: 2\n",
      "Encoded Category: Green, Encoded Value: 3\n",
      "Encoded Category: Multi-Color, Encoded Value: 4\n",
      "Encoded Category: Orange, Encoded Value: 5\n",
      "Encoded Category: Pink, Encoded Value: 6\n",
      "Encoded Category: Red, Encoded Value: 7\n",
      "Encoded Category: White, Encoded Value: 8\n",
      "Encoded Category: Yellow, Encoded Value: 9\n"
     ]
    }
   ],
   "source": [
    "encoded_values3 = le3.transform(encoded_color_class)\n",
    "category_mapping3 = dict(zip(encoded_color_class, encoded_values3)) # dictionary mapping the names to the numerical values\n",
    "for color, value3 in category_mapping3.items():  \n",
    "    print(f\"Encoded Category: {color}, Encoded Value: {value3}\")  # encoded value with its original name"
   ]
  },
  {
   "cell_type": "code",
   "execution_count": 37,
   "id": "912c7582",
   "metadata": {},
   "outputs": [
    {
     "data": {
      "text/html": [
       "<div>\n",
       "<style scoped>\n",
       "    .dataframe tbody tr th:only-of-type {\n",
       "        vertical-align: middle;\n",
       "    }\n",
       "\n",
       "    .dataframe tbody tr th {\n",
       "        vertical-align: top;\n",
       "    }\n",
       "\n",
       "    .dataframe thead th {\n",
       "        text-align: right;\n",
       "    }\n",
       "</style>\n",
       "<table border=\"1\" class=\"dataframe\">\n",
       "  <thead>\n",
       "    <tr style=\"text-align: right;\">\n",
       "      <th></th>\n",
       "      <th>category</th>\n",
       "      <th>main_promotion</th>\n",
       "      <th>color</th>\n",
       "      <th>stars</th>\n",
       "      <th>success_indicator</th>\n",
       "    </tr>\n",
       "  </thead>\n",
       "  <tbody>\n",
       "    <tr>\n",
       "      <th>0</th>\n",
       "      <td>5</td>\n",
       "      <td>0</td>\n",
       "      <td>3</td>\n",
       "      <td>3.1</td>\n",
       "      <td>flop</td>\n",
       "    </tr>\n",
       "    <tr>\n",
       "      <th>1</th>\n",
       "      <td>1</td>\n",
       "      <td>1</td>\n",
       "      <td>7</td>\n",
       "      <td>1.5</td>\n",
       "      <td>flop</td>\n",
       "    </tr>\n",
       "    <tr>\n",
       "      <th>2</th>\n",
       "      <td>3</td>\n",
       "      <td>0</td>\n",
       "      <td>7</td>\n",
       "      <td>4.4</td>\n",
       "      <td>top</td>\n",
       "    </tr>\n",
       "    <tr>\n",
       "      <th>3</th>\n",
       "      <td>2</td>\n",
       "      <td>1</td>\n",
       "      <td>1</td>\n",
       "      <td>3.1</td>\n",
       "      <td>flop</td>\n",
       "    </tr>\n",
       "    <tr>\n",
       "      <th>4</th>\n",
       "      <td>1</td>\n",
       "      <td>1</td>\n",
       "      <td>3</td>\n",
       "      <td>4.1</td>\n",
       "      <td>top</td>\n",
       "    </tr>\n",
       "  </tbody>\n",
       "</table>\n",
       "</div>"
      ],
      "text/plain": [
       "   category  main_promotion  color  stars success_indicator\n",
       "0         5               0      3    3.1              flop\n",
       "1         1               1      7    1.5              flop\n",
       "2         3               0      7    4.4               top\n",
       "3         2               1      1    3.1              flop\n",
       "4         1               1      3    4.1               top"
      ]
     },
     "execution_count": 37,
     "metadata": {},
     "output_type": "execute_result"
    }
   ],
   "source": [
    "df.head()"
   ]
  },
  {
   "cell_type": "code",
   "execution_count": 86,
   "id": "85935249",
   "metadata": {},
   "outputs": [
    {
     "data": {
      "image/png": "[encoded data removed]",
      "text/plain": [
       "<Figure size 640x480 with 1 Axes>"
      ]
     },
     "metadata": {},
     "output_type": "display_data"
    }
   ],
   "source": [
    "ct = pd.crosstab(df['color'], df['success_indicator'])\n",
    "ct.plot(kind='bar', stacked=True)\n",
    "plt.xlabel('Color')\n",
    "plt.ylabel('Count')\n",
    "plt.title('Stacked Bar Plot of Color and Success Indicator')\n",
    "plt.show()"
   ]
  },
  {
   "cell_type": "code",
   "execution_count": null,
   "id": "a00c3859",
   "metadata": {},
   "outputs": [],
   "source": [
    "df[df['color'] == 0].shape # 812\n",
    "df[(df['color'] == 0  ) & (df['success_indicator'] == 1)].shape #623\n",
    "#when product color is Black then percent of sucess indicator = TOP will be 76.72%"
   ]
  },
  {
   "cell_type": "code",
   "execution_count": 95,
   "id": "0130b6c4",
   "metadata": {},
   "outputs": [
    {
     "data": {
      "text/plain": [
       "(912, 6)"
      ]
     },
     "execution_count": 95,
     "metadata": {},
     "output_type": "execute_result"
    }
   ],
   "source": [
    "df[df['color'] == 1].shape # 1244\n",
    "df[(df['color'] == 1  ) & (df['success_indicator'] == 1)].shape #912\n",
    "#when product color is Blue then percent of sucess indicator = TOP will be 73.31%"
   ]
  },
  {
   "cell_type": "code",
   "execution_count": 96,
   "id": "ae2e1a25",
   "metadata": {},
   "outputs": [
    {
     "data": {
      "text/plain": [
       "(406, 6)"
      ]
     },
     "execution_count": 96,
     "metadata": {},
     "output_type": "execute_result"
    }
   ],
   "source": [
    "df[df['color'] == 2].shape # 585\n",
    "df[(df['color'] == 2  ) & (df['success_indicator'] == 1)].shape #406\n",
    "#when product color is Brown then percent of sucess indicator = TOP will be 69.47%"
   ]
  },
  {
   "cell_type": "code",
   "execution_count": 99,
   "id": "89db0019",
   "metadata": {},
   "outputs": [
    {
     "data": {
      "text/plain": [
       "(511, 6)"
      ]
     },
     "execution_count": 99,
     "metadata": {},
     "output_type": "execute_result"
    }
   ],
   "source": [
    "df[df['color'] == 3].shape # 728\n",
    "df[(df['color'] == 3  ) & (df['success_indicator'] == 1)].shape #511\n",
    "#when product color is Green then percent of sucess indicator = TOP will be 70.19%"
   ]
  },
  {
   "cell_type": "code",
   "execution_count": 114,
   "id": "4f515ff4",
   "metadata": {},
   "outputs": [
    {
     "data": {
      "text/plain": [
       "(735, 6)"
      ]
     },
     "execution_count": 114,
     "metadata": {},
     "output_type": "execute_result"
    }
   ],
   "source": [
    "df[df['color'] == 4].shape # 1443\n",
    "df[(df['color'] == 4 ) & (df['success_indicator'] == 1)].shape #735\n",
    "#when product color is Multi-Color then percent of sucess indicator = TOP will be 50.93%"
   ]
  },
  {
   "cell_type": "code",
   "execution_count": 103,
   "id": "4114c0c3",
   "metadata": {},
   "outputs": [
    {
     "data": {
      "text/plain": [
       "(402, 6)"
      ]
     },
     "execution_count": 103,
     "metadata": {},
     "output_type": "execute_result"
    }
   ],
   "source": [
    "df[df['color'] == 5].shape # 592\n",
    "df[(df['color'] == 5 ) & (df['success_indicator'] == 1)].shape #402\n",
    "#when product color is Orange then percent of sucess indicator = TOP will be 67.90%"
   ]
  },
  {
   "cell_type": "code",
   "execution_count": 107,
   "id": "3e6f1036",
   "metadata": {},
   "outputs": [
    {
     "data": {
      "text/plain": [
       "(325, 6)"
      ]
     },
     "execution_count": 107,
     "metadata": {},
     "output_type": "execute_result"
    }
   ],
   "source": [
    "df[df['color'] == 6].shape # 412\n",
    "df[(df['color'] == 6 ) & (df['success_indicator'] == 1)].shape #325\n",
    "#when product color is Pink then percent of sucess indicator = TOP will be 78.88%"
   ]
  },
  {
   "cell_type": "code",
   "execution_count": 79,
   "id": "320a8c79",
   "metadata": {},
   "outputs": [
    {
     "data": {
      "text/plain": [
       "(359, 6)"
      ]
     },
     "execution_count": 79,
     "metadata": {},
     "output_type": "execute_result"
    }
   ],
   "source": [
    "df[df['color'] == 7].shape #776\n",
    "df[(df['color'] == 7 ) & (df['success_indicator'] == 1)].shape #359\n",
    "#when product color is red then percent of sucess indicator = TOP will be 46.26%"
   ]
  },
  {
   "cell_type": "code",
   "execution_count": 110,
   "id": "1d6ae489",
   "metadata": {},
   "outputs": [
    {
     "data": {
      "text/plain": [
       "(263, 6)"
      ]
     },
     "execution_count": 110,
     "metadata": {},
     "output_type": "execute_result"
    }
   ],
   "source": [
    "df[df['color'] == 8].shape # 352\n",
    "df[(df['color'] == 8 ) & (df['success_indicator'] == 1)].shape #263\n",
    "#when product color is White then percent of sucess indicator = TOP will be 74.71%"
   ]
  },
  {
   "cell_type": "code",
   "execution_count": 113,
   "id": "8d6aa962",
   "metadata": {},
   "outputs": [
    {
     "data": {
      "text/plain": [
       "(649, 6)"
      ]
     },
     "execution_count": 113,
     "metadata": {},
     "output_type": "execute_result"
    }
   ],
   "source": [
    "df[df['color'] == 9].shape # 1056\n",
    "df[(df['color'] == 9 ) & (df['success_indicator'] == 1)].shape #649\n",
    "#when product color is Yellow then percent of sucess indicator = TOP will be 61.45%"
   ]
  },
  {
   "cell_type": "code",
   "execution_count": null,
   "id": "2390960d",
   "metadata": {},
   "outputs": [],
   "source": [
    "###############################################################################################\n",
    "###############################################################################################"
   ]
  },
  {
   "cell_type": "code",
   "execution_count": null,
   "id": "ed1d23bb",
   "metadata": {},
   "outputs": [],
   "source": [
    "\n"
   ]
  },
  {
   "cell_type": "code",
   "execution_count": null,
   "id": "2dd4b550",
   "metadata": {},
   "outputs": [],
   "source": []
  },
  {
   "cell_type": "code",
   "execution_count": null,
   "id": "dfb957c5",
   "metadata": {},
   "outputs": [],
   "source": []
  },
  {
   "cell_type": "markdown",
   "id": "f08ca33d",
   "metadata": {},
   "source": [
    "# Analysis on :  stars feature"
   ]
  },
  {
   "cell_type": "markdown",
   "id": "ef4db6e8",
   "metadata": {},
   "source": [
    "Here based on domain knowledge or as per mentioned in pdf of this problem we can convert stars into two bins\n",
    "1st bin will contain all stars <=3 and will be for class 'FLOP' will assign it digit 0\n",
    "2nd bin will contain all stars >3 and will be for class 'TOP' and will assign it digit 1"
   ]
  },
  {
   "cell_type": "code",
   "execution_count": 41,
   "id": "30a6e77d",
   "metadata": {},
   "outputs": [
    {
     "name": "stdout",
     "output_type": "stream",
     "text": [
      "<class 'pandas.core.frame.DataFrame'>\n",
      "RangeIndex: 8000 entries, 0 to 7999\n",
      "Data columns (total 5 columns):\n",
      " #   Column             Non-Null Count  Dtype  \n",
      "---  ------             --------------  -----  \n",
      " 0   category           8000 non-null   int32  \n",
      " 1   main_promotion     8000 non-null   int32  \n",
      " 2   color              8000 non-null   int32  \n",
      " 3   stars              8000 non-null   float64\n",
      " 4   success_indicator  8000 non-null   object \n",
      "dtypes: float64(1), int32(3), object(1)\n",
      "memory usage: 218.9+ KB\n"
     ]
    }
   ],
   "source": [
    "df.info() #original datatype of stars column is object but for num condition we have to convert it into float"
   ]
  },
  {
   "cell_type": "code",
   "execution_count": 42,
   "id": "96b5c198",
   "metadata": {},
   "outputs": [],
   "source": [
    "# Change data type of \"Stars\" from object to float\n",
    "df['stars'] = df['stars'].astype(float)"
   ]
  },
  {
   "cell_type": "code",
   "execution_count": 43,
   "id": "09d7f8e5",
   "metadata": {},
   "outputs": [
    {
     "name": "stdout",
     "output_type": "stream",
     "text": [
      "<class 'pandas.core.frame.DataFrame'>\n",
      "RangeIndex: 8000 entries, 0 to 7999\n",
      "Data columns (total 5 columns):\n",
      " #   Column             Non-Null Count  Dtype  \n",
      "---  ------             --------------  -----  \n",
      " 0   category           8000 non-null   int32  \n",
      " 1   main_promotion     8000 non-null   int32  \n",
      " 2   color              8000 non-null   int32  \n",
      " 3   stars              8000 non-null   float64\n",
      " 4   success_indicator  8000 non-null   object \n",
      "dtypes: float64(1), int32(3), object(1)\n",
      "memory usage: 218.9+ KB\n"
     ]
    }
   ],
   "source": [
    "df.info()"
   ]
  },
  {
   "cell_type": "code",
   "execution_count": 44,
   "id": "c3b16dbd",
   "metadata": {},
   "outputs": [],
   "source": [
    "df['stars'] = np.where(df['stars'] <= 3, 0, df['stars']) \n",
    "#BIN 1st where star <=3 will assign them as 0 as most of them are 'FLOP'"
   ]
  },
  {
   "cell_type": "code",
   "execution_count": 45,
   "id": "1a93439d",
   "metadata": {},
   "outputs": [],
   "source": [
    "df['stars'] = np.where(df['stars'] > 3, 1, df['stars'])\n",
    "#BIN 2nd where star > 3 will assign them as 1 as most of them are 'TOP'"
   ]
  },
  {
   "cell_type": "code",
   "execution_count": 46,
   "id": "200b7bda",
   "metadata": {},
   "outputs": [
    {
     "data": {
      "text/plain": [
       "1.0    5278\n",
       "0.0    2722\n",
       "Name: stars, dtype: int64"
      ]
     },
     "execution_count": 46,
     "metadata": {},
     "output_type": "execute_result"
    }
   ],
   "source": [
    "df['stars'].value_counts()"
   ]
  },
  {
   "cell_type": "code",
   "execution_count": 47,
   "id": "cc051ca9",
   "metadata": {},
   "outputs": [
    {
     "name": "stdout",
     "output_type": "stream",
     "text": [
      "<class 'pandas.core.frame.DataFrame'>\n",
      "RangeIndex: 8000 entries, 0 to 7999\n",
      "Data columns (total 5 columns):\n",
      " #   Column             Non-Null Count  Dtype  \n",
      "---  ------             --------------  -----  \n",
      " 0   category           8000 non-null   int32  \n",
      " 1   main_promotion     8000 non-null   int32  \n",
      " 2   color              8000 non-null   int32  \n",
      " 3   stars              8000 non-null   float64\n",
      " 4   success_indicator  8000 non-null   object \n",
      "dtypes: float64(1), int32(3), object(1)\n",
      "memory usage: 218.9+ KB\n"
     ]
    }
   ],
   "source": [
    "df.info()"
   ]
  },
  {
   "cell_type": "code",
   "execution_count": 151,
   "id": "ac377c40",
   "metadata": {},
   "outputs": [
    {
     "data": {
      "text/html": [
       "<div>\n",
       "<style scoped>\n",
       "    .dataframe tbody tr th:only-of-type {\n",
       "        vertical-align: middle;\n",
       "    }\n",
       "\n",
       "    .dataframe tbody tr th {\n",
       "        vertical-align: top;\n",
       "    }\n",
       "\n",
       "    .dataframe thead th {\n",
       "        text-align: right;\n",
       "    }\n",
       "</style>\n",
       "<table border=\"1\" class=\"dataframe\">\n",
       "  <thead>\n",
       "    <tr style=\"text-align: right;\">\n",
       "      <th></th>\n",
       "      <th>category</th>\n",
       "      <th>main_promotion</th>\n",
       "      <th>color</th>\n",
       "      <th>stars</th>\n",
       "      <th>success_indicator</th>\n",
       "      <th>encoded_success_indicator</th>\n",
       "    </tr>\n",
       "  </thead>\n",
       "  <tbody>\n",
       "    <tr>\n",
       "      <th>0</th>\n",
       "      <td>5</td>\n",
       "      <td>0</td>\n",
       "      <td>3</td>\n",
       "      <td>1.0</td>\n",
       "      <td>0</td>\n",
       "      <td>0</td>\n",
       "    </tr>\n",
       "    <tr>\n",
       "      <th>1</th>\n",
       "      <td>1</td>\n",
       "      <td>1</td>\n",
       "      <td>7</td>\n",
       "      <td>0.0</td>\n",
       "      <td>0</td>\n",
       "      <td>0</td>\n",
       "    </tr>\n",
       "    <tr>\n",
       "      <th>2</th>\n",
       "      <td>3</td>\n",
       "      <td>0</td>\n",
       "      <td>7</td>\n",
       "      <td>1.0</td>\n",
       "      <td>1</td>\n",
       "      <td>1</td>\n",
       "    </tr>\n",
       "    <tr>\n",
       "      <th>3</th>\n",
       "      <td>2</td>\n",
       "      <td>1</td>\n",
       "      <td>1</td>\n",
       "      <td>1.0</td>\n",
       "      <td>0</td>\n",
       "      <td>0</td>\n",
       "    </tr>\n",
       "    <tr>\n",
       "      <th>4</th>\n",
       "      <td>1</td>\n",
       "      <td>1</td>\n",
       "      <td>3</td>\n",
       "      <td>1.0</td>\n",
       "      <td>1</td>\n",
       "      <td>1</td>\n",
       "    </tr>\n",
       "  </tbody>\n",
       "</table>\n",
       "</div>"
      ],
      "text/plain": [
       "   category  main_promotion  color  stars  success_indicator  \\\n",
       "0         5               0      3    1.0                  0   \n",
       "1         1               1      7    0.0                  0   \n",
       "2         3               0      7    1.0                  1   \n",
       "3         2               1      1    1.0                  0   \n",
       "4         1               1      3    1.0                  1   \n",
       "\n",
       "   encoded_success_indicator  \n",
       "0                          0  \n",
       "1                          0  \n",
       "2                          1  \n",
       "3                          0  \n",
       "4                          1  "
      ]
     },
     "execution_count": 151,
     "metadata": {},
     "output_type": "execute_result"
    }
   ],
   "source": [
    "df.head()"
   ]
  },
  {
   "cell_type": "code",
   "execution_count": 154,
   "id": "548b24c4",
   "metadata": {},
   "outputs": [
    {
     "data": {
      "text/plain": [
       "(4364, 6)"
      ]
     },
     "execution_count": 154,
     "metadata": {},
     "output_type": "execute_result"
    }
   ],
   "source": [
    "df[df['stars'] == 1].shape # 5278\n",
    "df[(df['stars'] == 1 ) & (df['success_indicator'] == 1)].shape #4364\n",
    "#when product star rating 1 is i.e more than 3 then percent of sucess indicator = TOP will be 82.68 %"
   ]
  },
  {
   "cell_type": "code",
   "execution_count": 159,
   "id": "1ead5341",
   "metadata": {},
   "outputs": [
    {
     "data": {
      "text/plain": [
       "(821, 6)"
      ]
     },
     "execution_count": 159,
     "metadata": {},
     "output_type": "execute_result"
    }
   ],
   "source": [
    "df[df['stars'] == 0].shape # 2722\n",
    "df[(df['stars'] == 0  ) & (df['success_indicator'] == 1)].shape #821\n",
    "#when product star rating  is 0 i.e less than eqaual to 3 then percent of sucess indicator = TOP will be 30 %"
   ]
  },
  {
   "cell_type": "code",
   "execution_count": null,
   "id": "675ac86e",
   "metadata": {},
   "outputs": [],
   "source": [
    "###############################################################################################################\n",
    "###############################################################################################################"
   ]
  },
  {
   "cell_type": "code",
   "execution_count": null,
   "id": "4603215e",
   "metadata": {},
   "outputs": [],
   "source": []
  },
  {
   "cell_type": "code",
   "execution_count": null,
   "id": "d1dc0ed6",
   "metadata": {},
   "outputs": [],
   "source": []
  },
  {
   "cell_type": "markdown",
   "id": "56db1f84",
   "metadata": {},
   "source": [
    "# Analysis on :  success_indicator feature"
   ]
  },
  {
   "cell_type": "raw",
   "id": "36df7a19",
   "metadata": {},
   "source": [
    "Here in target feature that is success_indicator we need to encode classes i.e TOP = 1 and FLOP = 0"
   ]
  },
  {
   "cell_type": "code",
   "execution_count": 50,
   "id": "9762c54f",
   "metadata": {},
   "outputs": [
    {
     "data": {
      "text/plain": [
       "top     5185\n",
       "flop    2815\n",
       "Name: success_indicator, dtype: int64"
      ]
     },
     "execution_count": 50,
     "metadata": {},
     "output_type": "execute_result"
    }
   ],
   "source": [
    "df['success_indicator'].value_counts()"
   ]
  },
  {
   "cell_type": "code",
   "execution_count": 70,
   "id": "61e60a18",
   "metadata": {},
   "outputs": [],
   "source": [
    "encoder = LabelEncoder()\n",
    "df['success_indicator'] = encoder.fit_transform(df['success_indicator'])"
   ]
  },
  {
   "cell_type": "code",
   "execution_count": 71,
   "id": "7940ab20",
   "metadata": {},
   "outputs": [
    {
     "data": {
      "text/plain": [
       "1    5185\n",
       "0    2815\n",
       "Name: encoded_success_indicator, dtype: int64"
      ]
     },
     "execution_count": 71,
     "metadata": {},
     "output_type": "execute_result"
    }
   ],
   "source": [
    "df['success_indicator'].value_counts() # will encoded new target column WHERE TOP = 1 and FLOP =0"
   ]
  },
  {
   "cell_type": "code",
   "execution_count": null,
   "id": "c7ad8777",
   "metadata": {},
   "outputs": [],
   "source": []
  },
  {
   "cell_type": "code",
   "execution_count": 53,
   "id": "93123a84",
   "metadata": {},
   "outputs": [
    {
     "name": "stdout",
     "output_type": "stream",
     "text": [
      "<class 'pandas.core.frame.DataFrame'>\n",
      "RangeIndex: 8000 entries, 0 to 7999\n",
      "Data columns (total 5 columns):\n",
      " #   Column             Non-Null Count  Dtype  \n",
      "---  ------             --------------  -----  \n",
      " 0   category           8000 non-null   int32  \n",
      " 1   main_promotion     8000 non-null   int32  \n",
      " 2   color              8000 non-null   int32  \n",
      " 3   stars              8000 non-null   float64\n",
      " 4   success_indicator  8000 non-null   int32  \n",
      "dtypes: float64(1), int32(4)\n",
      "memory usage: 187.6 KB\n"
     ]
    }
   ],
   "source": [
    "df.info()"
   ]
  },
  {
   "cell_type": "code",
   "execution_count": 160,
   "id": "e8bcc7b0",
   "metadata": {},
   "outputs": [
    {
     "data": {
      "text/plain": [
       "(8000, 6)"
      ]
     },
     "execution_count": 160,
     "metadata": {},
     "output_type": "execute_result"
    }
   ],
   "source": [
    "df.shape"
   ]
  },
  {
   "cell_type": "code",
   "execution_count": null,
   "id": "a899579d",
   "metadata": {},
   "outputs": [],
   "source": [
    "############################################################\n",
    "##########################################################"
   ]
  },
  {
   "cell_type": "code",
   "execution_count": null,
   "id": "592034f1",
   "metadata": {},
   "outputs": [],
   "source": []
  },
  {
   "cell_type": "markdown",
   "id": "daacd0ec",
   "metadata": {},
   "source": [
    "# checking for Balancing and imbalancing of dataframe"
   ]
  },
  {
   "cell_type": "code",
   "execution_count": 161,
   "id": "bbd689ed",
   "metadata": {},
   "outputs": [
    {
     "data": {
      "text/plain": [
       "1    5185\n",
       "0    2815\n",
       "Name: success_indicator, dtype: int64"
      ]
     },
     "execution_count": 161,
     "metadata": {},
     "output_type": "execute_result"
    }
   ],
   "source": [
    "df['success_indicator'].value_counts()"
   ]
  },
  {
   "cell_type": "code",
   "execution_count": 162,
   "id": "1a8f19cd",
   "metadata": {},
   "outputs": [
    {
     "data": {
      "text/plain": [
       "35.1875"
      ]
     },
     "execution_count": 162,
     "metadata": {},
     "output_type": "execute_result"
    }
   ],
   "source": [
    "(2815/8000)*100  # 35% of data belongs to 'FLOP'/0 class"
   ]
  },
  {
   "cell_type": "code",
   "execution_count": 163,
   "id": "40872be1",
   "metadata": {},
   "outputs": [
    {
     "data": {
      "text/plain": [
       "64.8125"
      ]
     },
     "execution_count": 163,
     "metadata": {},
     "output_type": "execute_result"
    }
   ],
   "source": [
    "(5185/8000)*100  # 65% of data belongs to 'TOP'/1 class"
   ]
  },
  {
   "cell_type": "markdown",
   "id": "756443b7",
   "metadata": {},
   "source": [
    "1 >> Hence data is imbalanced as data for 'FLOP' catagory / class is nearly half of 'TOP' class / category in Target  \n",
    "     feature.\n",
    "2 >> Problem with imbalaced data is that when we prepare model , our prediction will be biased towards class/category with\n",
    "     majority of data i.e, 'TOP' in our case\n",
    "3 >> we can choose various ways of balancing data ex, undersampling of majority class , oversampling of minority class , \n",
    "     or SMOTE technique"
   ]
  },
  {
   "cell_type": "code",
   "execution_count": 164,
   "id": "511999e2",
   "metadata": {},
   "outputs": [],
   "source": [
    "from imblearn.over_sampling import SMOTE\n",
    "x = df.drop('success_indicator', axis=1)\n",
    "y = df['success_indicator']"
   ]
  },
  {
   "cell_type": "code",
   "execution_count": 165,
   "id": "d6dcd022",
   "metadata": {},
   "outputs": [
    {
     "name": "stdout",
     "output_type": "stream",
     "text": [
      "       category  main_promotion  color  stars  encoded_success_indicator  \\\n",
      "0             5               0      3    1.0                          0   \n",
      "1             1               1      7    0.0                          0   \n",
      "2             3               0      7    1.0                          1   \n",
      "3             2               1      1    1.0                          0   \n",
      "4             1               1      3    1.0                          1   \n",
      "...         ...             ...    ...    ...                        ...   \n",
      "10365         4               2      0    1.0                          0   \n",
      "10366         5               0      4    0.0                          0   \n",
      "10367         5               0      3    0.0                          0   \n",
      "10368         2               1      4    1.0                          0   \n",
      "10369         0               1      1    0.0                          0   \n",
      "\n",
      "       success_indicator  \n",
      "0                      0  \n",
      "1                      0  \n",
      "2                      1  \n",
      "3                      0  \n",
      "4                      1  \n",
      "...                  ...  \n",
      "10365                  0  \n",
      "10366                  0  \n",
      "10367                  0  \n",
      "10368                  0  \n",
      "10369                  0  \n",
      "\n",
      "[10370 rows x 6 columns]\n"
     ]
    }
   ],
   "source": [
    "smote = SMOTE()\n",
    "x_balanced, y_balanced = smote.fit_resample(x, y)\n",
    "df_balanced = pd.concat([x_balanced, y_balanced], axis=1)\n",
    "print(df_balanced)"
   ]
  },
  {
   "cell_type": "code",
   "execution_count": 166,
   "id": "57e30d80",
   "metadata": {},
   "outputs": [
    {
     "data": {
      "text/html": [
       "<div>\n",
       "<style scoped>\n",
       "    .dataframe tbody tr th:only-of-type {\n",
       "        vertical-align: middle;\n",
       "    }\n",
       "\n",
       "    .dataframe tbody tr th {\n",
       "        vertical-align: top;\n",
       "    }\n",
       "\n",
       "    .dataframe thead th {\n",
       "        text-align: right;\n",
       "    }\n",
       "</style>\n",
       "<table border=\"1\" class=\"dataframe\">\n",
       "  <thead>\n",
       "    <tr style=\"text-align: right;\">\n",
       "      <th></th>\n",
       "      <th>category</th>\n",
       "      <th>main_promotion</th>\n",
       "      <th>color</th>\n",
       "      <th>stars</th>\n",
       "      <th>encoded_success_indicator</th>\n",
       "      <th>success_indicator</th>\n",
       "    </tr>\n",
       "  </thead>\n",
       "  <tbody>\n",
       "    <tr>\n",
       "      <th>0</th>\n",
       "      <td>5</td>\n",
       "      <td>0</td>\n",
       "      <td>3</td>\n",
       "      <td>1.0</td>\n",
       "      <td>0</td>\n",
       "      <td>0</td>\n",
       "    </tr>\n",
       "    <tr>\n",
       "      <th>1</th>\n",
       "      <td>1</td>\n",
       "      <td>1</td>\n",
       "      <td>7</td>\n",
       "      <td>0.0</td>\n",
       "      <td>0</td>\n",
       "      <td>0</td>\n",
       "    </tr>\n",
       "    <tr>\n",
       "      <th>2</th>\n",
       "      <td>3</td>\n",
       "      <td>0</td>\n",
       "      <td>7</td>\n",
       "      <td>1.0</td>\n",
       "      <td>1</td>\n",
       "      <td>1</td>\n",
       "    </tr>\n",
       "    <tr>\n",
       "      <th>3</th>\n",
       "      <td>2</td>\n",
       "      <td>1</td>\n",
       "      <td>1</td>\n",
       "      <td>1.0</td>\n",
       "      <td>0</td>\n",
       "      <td>0</td>\n",
       "    </tr>\n",
       "    <tr>\n",
       "      <th>4</th>\n",
       "      <td>1</td>\n",
       "      <td>1</td>\n",
       "      <td>3</td>\n",
       "      <td>1.0</td>\n",
       "      <td>1</td>\n",
       "      <td>1</td>\n",
       "    </tr>\n",
       "  </tbody>\n",
       "</table>\n",
       "</div>"
      ],
      "text/plain": [
       "   category  main_promotion  color  stars  encoded_success_indicator  \\\n",
       "0         5               0      3    1.0                          0   \n",
       "1         1               1      7    0.0                          0   \n",
       "2         3               0      7    1.0                          1   \n",
       "3         2               1      1    1.0                          0   \n",
       "4         1               1      3    1.0                          1   \n",
       "\n",
       "   success_indicator  \n",
       "0                  0  \n",
       "1                  0  \n",
       "2                  1  \n",
       "3                  0  \n",
       "4                  1  "
      ]
     },
     "execution_count": 166,
     "metadata": {},
     "output_type": "execute_result"
    }
   ],
   "source": [
    "df_balanced.head()"
   ]
  },
  {
   "cell_type": "code",
   "execution_count": 167,
   "id": "65d3bb76",
   "metadata": {},
   "outputs": [
    {
     "data": {
      "text/plain": [
       "(10370, 6)"
      ]
     },
     "execution_count": 167,
     "metadata": {},
     "output_type": "execute_result"
    }
   ],
   "source": [
    "df_balanced.shape"
   ]
  },
  {
   "cell_type": "code",
   "execution_count": 168,
   "id": "dde43b51",
   "metadata": {},
   "outputs": [
    {
     "data": {
      "text/plain": [
       "0    5185\n",
       "1    5185\n",
       "Name: success_indicator, dtype: int64"
      ]
     },
     "execution_count": 168,
     "metadata": {},
     "output_type": "execute_result"
    }
   ],
   "source": [
    "df_balanced['success_indicator'].value_counts()"
   ]
  },
  {
   "cell_type": "markdown",
   "id": "92713e3e",
   "metadata": {},
   "source": [
    "# Hence Our DATA is balanced with all values encoded in numbers which is prerequisite for the data required for model building"
   ]
  },
  {
   "cell_type": "code",
   "execution_count": 173,
   "id": "78053b2d",
   "metadata": {},
   "outputs": [],
   "source": [
    "final_df = df_balanced.drop('encoded_success_indicator',axis=1)"
   ]
  },
  {
   "cell_type": "code",
   "execution_count": 174,
   "id": "e6c6dea9",
   "metadata": {},
   "outputs": [
    {
     "data": {
      "text/html": [
       "<div>\n",
       "<style scoped>\n",
       "    .dataframe tbody tr th:only-of-type {\n",
       "        vertical-align: middle;\n",
       "    }\n",
       "\n",
       "    .dataframe tbody tr th {\n",
       "        vertical-align: top;\n",
       "    }\n",
       "\n",
       "    .dataframe thead th {\n",
       "        text-align: right;\n",
       "    }\n",
       "</style>\n",
       "<table border=\"1\" class=\"dataframe\">\n",
       "  <thead>\n",
       "    <tr style=\"text-align: right;\">\n",
       "      <th></th>\n",
       "      <th>category</th>\n",
       "      <th>main_promotion</th>\n",
       "      <th>color</th>\n",
       "      <th>stars</th>\n",
       "      <th>success_indicator</th>\n",
       "    </tr>\n",
       "  </thead>\n",
       "  <tbody>\n",
       "    <tr>\n",
       "      <th>0</th>\n",
       "      <td>5</td>\n",
       "      <td>0</td>\n",
       "      <td>3</td>\n",
       "      <td>1.0</td>\n",
       "      <td>0</td>\n",
       "    </tr>\n",
       "    <tr>\n",
       "      <th>1</th>\n",
       "      <td>1</td>\n",
       "      <td>1</td>\n",
       "      <td>7</td>\n",
       "      <td>0.0</td>\n",
       "      <td>0</td>\n",
       "    </tr>\n",
       "    <tr>\n",
       "      <th>2</th>\n",
       "      <td>3</td>\n",
       "      <td>0</td>\n",
       "      <td>7</td>\n",
       "      <td>1.0</td>\n",
       "      <td>1</td>\n",
       "    </tr>\n",
       "    <tr>\n",
       "      <th>3</th>\n",
       "      <td>2</td>\n",
       "      <td>1</td>\n",
       "      <td>1</td>\n",
       "      <td>1.0</td>\n",
       "      <td>0</td>\n",
       "    </tr>\n",
       "    <tr>\n",
       "      <th>4</th>\n",
       "      <td>1</td>\n",
       "      <td>1</td>\n",
       "      <td>3</td>\n",
       "      <td>1.0</td>\n",
       "      <td>1</td>\n",
       "    </tr>\n",
       "    <tr>\n",
       "      <th>...</th>\n",
       "      <td>...</td>\n",
       "      <td>...</td>\n",
       "      <td>...</td>\n",
       "      <td>...</td>\n",
       "      <td>...</td>\n",
       "    </tr>\n",
       "    <tr>\n",
       "      <th>10365</th>\n",
       "      <td>4</td>\n",
       "      <td>2</td>\n",
       "      <td>0</td>\n",
       "      <td>1.0</td>\n",
       "      <td>0</td>\n",
       "    </tr>\n",
       "    <tr>\n",
       "      <th>10366</th>\n",
       "      <td>5</td>\n",
       "      <td>0</td>\n",
       "      <td>4</td>\n",
       "      <td>0.0</td>\n",
       "      <td>0</td>\n",
       "    </tr>\n",
       "    <tr>\n",
       "      <th>10367</th>\n",
       "      <td>5</td>\n",
       "      <td>0</td>\n",
       "      <td>3</td>\n",
       "      <td>0.0</td>\n",
       "      <td>0</td>\n",
       "    </tr>\n",
       "    <tr>\n",
       "      <th>10368</th>\n",
       "      <td>2</td>\n",
       "      <td>1</td>\n",
       "      <td>4</td>\n",
       "      <td>1.0</td>\n",
       "      <td>0</td>\n",
       "    </tr>\n",
       "    <tr>\n",
       "      <th>10369</th>\n",
       "      <td>0</td>\n",
       "      <td>1</td>\n",
       "      <td>1</td>\n",
       "      <td>0.0</td>\n",
       "      <td>0</td>\n",
       "    </tr>\n",
       "  </tbody>\n",
       "</table>\n",
       "<p>10370 rows × 5 columns</p>\n",
       "</div>"
      ],
      "text/plain": [
       "       category  main_promotion  color  stars  success_indicator\n",
       "0             5               0      3    1.0                  0\n",
       "1             1               1      7    0.0                  0\n",
       "2             3               0      7    1.0                  1\n",
       "3             2               1      1    1.0                  0\n",
       "4             1               1      3    1.0                  1\n",
       "...         ...             ...    ...    ...                ...\n",
       "10365         4               2      0    1.0                  0\n",
       "10366         5               0      4    0.0                  0\n",
       "10367         5               0      3    0.0                  0\n",
       "10368         2               1      4    1.0                  0\n",
       "10369         0               1      1    0.0                  0\n",
       "\n",
       "[10370 rows x 5 columns]"
      ]
     },
     "execution_count": 174,
     "metadata": {},
     "output_type": "execute_result"
    }
   ],
   "source": [
    "final_df"
   ]
  },
  {
   "cell_type": "code",
   "execution_count": 180,
   "id": "6f824776",
   "metadata": {},
   "outputs": [],
   "source": [
    "final_df.to_csv('train_df.csv',index=False)"
   ]
  },
  {
   "cell_type": "code",
   "execution_count": 2,
   "id": "90897a41",
   "metadata": {},
   "outputs": [],
   "source": [
    "# train_df will be our engineered training data suitable for chosen model"
   ]
  },
  {
   "cell_type": "markdown",
   "id": "d4c4d768",
   "metadata": {},
   "source": [
    "# Exploratory Data Analysis (EDA) Report:\n"
   ]
  },
  {
   "cell_type": "markdown",
   "id": "4ebfd123",
   "metadata": {},
   "source": [
    "Dataset Overview:\n",
    "The dataset consists of 5 variables: 'item_no', 'Category', 'Color', 'main_promotion' and 'Success_Indicator'.\n",
    "\n",
    "Univariate Analysis: Key insights\n",
    "\n",
    "'item_no' : \n",
    "As 'item_no' feature having high variance or all values are unique we can drop this feature as it will not help us in\n",
    "predicting output\n",
    "\n",
    "'Category':\n",
    "There are 6 categories of product namely Tunic, Polo-Shirt, T-Shirt, Sweatshirt, Blouse, Hoodie.\n",
    "Here as features datatype is categorical we have to convert it into numerical datatype in feature engineering\n",
    "as our model understand numerical values only\n",
    "\n",
    "'main_promotion': \n",
    "Here for promotion of these product company used 4 mainways namely Category_Highlight, Catalog, Frontpage_Header,\n",
    "Display_Ad_Campaign\n",
    "\n",
    "'Color':\n",
    "Colors are represented by the labels 'Red', 'Blue', and 'Green' etc.\n",
    "The products are in 10 various colors , this features also we have to encode in numerical datatype\n",
    "\n",
    "'Success_Indicator':\n",
    "Success indicators are represented by the labels 'TOP' and 'FLOP'.\n",
    "The count of 'TOP' is 5185, and the count of 'FLOP' is 2815, Which significe data is imbalaced\n",
    " 'success_indicator' will be our target feature with categories flop and top , hence we have to build binary classification model such as (logistic regression , SVM classifier , decision tree , Ensemble models ets)\n",
    "\n",
    "\n",
    "Bivariate Analysis: Key insights\n",
    "\n",
    "Relationship between 'item_no' and 'Success_Indicator':\n",
    "There is no relation between 'item_no' and 'Success_Indicator' as 'item_no' is with high varience of data in it and hence\n",
    "we can look ahead of dropping it\n",
    "\n",
    "Relationship between 'Category' and 'Success_Indicator':\n",
    "Based on biivariate analysis we can observe the success indicator  of 'T-shirt' is huge among all categories which is good for buisness while  in relative sense polo-shirt went flop more compared to their sucess in market\n",
    "when category of product is Blouse then percent of success indicator = TOP will be 70.86%\n",
    "when category of product is Hoodie then percent of success indicator = TOP will be 65.08%\n",
    "when category of product is Polo-Shirt then percent of success indicator = TOP will be 47.15%\n",
    "when category of product is Sweatshirt then percent of success indicator = TOP will be 66.69%\n",
    "when category of product is T-Shirt then percent of success indicator = TOP will be 81.42%\n",
    "when category of product is Tunic then percent of success indicator = TOP will be 60.42%\n",
    "Hence as per this analysis launching T-shirt product  will be good for buisness as having  81% success rate\n",
    "\n",
    "\n",
    "Relationship between 'main_promotion' and 'Success_Indicator':\n",
    "here we can observe success rate is 57% for Catalog 61% Category_Highlight 74% Display_Ad_Campaign 70% Frontpage_Header Hence as per these bivariate analysis company should focus on Display_Ad_Campaign and Frontpage_Header promotions more and other two as less\n",
    "when main_promotion is via Catalog then percent of sucess indicator = TOP will be 57.56%\n",
    "when main_promotion is via Category_Highlight then percent of sucess indicator = TOP will be 61.75%\n",
    "when main_promotion is via Display_Ad_Campaign then percent of sucess indicator = TOP will be 74.40%\n",
    "when main_promotion is via Frontpage_Header then percent of sucess indicator = TOP will be 70.34%\n",
    "Hence as per this analysis launching product with Display_Ad_Campaign as main_promotion will be good for buisness as having \n",
    "74% success rate\n",
    "\n",
    "Relationship between 'color' and 'Success_Indicator':\n",
    "when product color is Black then percent of sucess indicator = TOP will be 76.72%\n",
    "when product color is Blue then percent of sucess indicator = TOP will be 73.31%\n",
    "when product color is Green then percent of sucess indicator = TOP will be 70.19%\n",
    "when product color is Multi-Color then percent of sucess indicator = TOP will be 50.93%\n",
    "when product color is Orange then percent of sucess indicator = TOP will be 67.90%\n",
    "when product color is Pink then percent of sucess indicator = TOP will be 78.88%\n",
    "when product color is red then percent of sucess indicator = TOP will be 46.26%\n",
    "when product color is White then percent of sucess indicator = TOP will be 74.71%\n",
    "when product color is Yellow then percent of sucess indicator = TOP will be 61.45%\n",
    "Hence as per this analysis launching product with pink, black and white will be good for buisness.\n",
    "\n",
    "Relationship between 'stars' and 'Success_Indicator':\n",
    "when product star rating 1 is i.e stars more than 3 then percent of sucess indicator = TOP will be 82.68 %\n",
    "when product star rating  is 0 i.e stars less than eqaual to 3 then percent of sucess indicator = TOP will be 30 %\n",
    "hence higher the rating will be good for preduct accepetance by customers"
   ]
  }
 ],
 "metadata": {
  "kernelspec": {
   "display_name": "Python 3 (ipykernel)",
   "language": "python",
   "name": "python3"
  },
  "language_info": {
   "codemirror_mode": {
    "name": "ipython",
    "version": 3
   },
   "file_extension": ".py",
   "mimetype": "text/x-python",
   "name": "python",
   "nbconvert_exporter": "python",
   "pygments_lexer": "ipython3",
   "version": "3.11.0"
  }
 },
 "nbformat": 4,
 "nbformat_minor": 5
}
